{
 "cells": [
  {
   "cell_type": "code",
   "execution_count": 1,
   "metadata": {},
   "outputs": [],
   "source": [
    "import pickle\n",
    "\n",
    "import pandas as pd"
   ]
  },
  {
   "cell_type": "code",
   "execution_count": 2,
   "metadata": {},
   "outputs": [],
   "source": [
    "# Pairs list to use for query ids:\n",
    "\n",
    "with open(\"/mnt/8de37f61-64a8-4a87-8e84-52eef99e123a/thesis/mscemanuelkuhn/code/evaluation/pipeline/bruteforce_pairs_100_queries.pkl\", \"rb\") as f:\n",
    "    bf_pairs = pickle.load(f)\n",
    "\n",
    "# bf pairs lists all combinations of query_id, db_id. First index is the query id, and second index \\in db_ids"
   ]
  },
  {
   "cell_type": "code",
   "execution_count": 3,
   "metadata": {},
   "outputs": [],
   "source": [
    "query_ids = list(set([pair[0] for pair in bf_pairs]))\n",
    "\n",
    "all_ids = sorted(set([pair[1] for pair in bf_pairs]))"
   ]
  },
  {
   "cell_type": "code",
   "execution_count": 4,
   "metadata": {},
   "outputs": [],
   "source": [
    "info = pickle.load(open('../training_scripts/layoutgmn_data/FP_box_info_list.pkl', 'rb'))\n",
    "\n",
    "available_ids = set([int(x[\"id\"]) for x in info])"
   ]
  },
  {
   "cell_type": "code",
   "execution_count": 5,
   "metadata": {},
   "outputs": [],
   "source": [
    "query_ids = list(set(query_ids) & available_ids)\n",
    "all_ids = list(set(all_ids) & available_ids)"
   ]
  },
  {
   "cell_type": "code",
   "execution_count": 6,
   "metadata": {},
   "outputs": [
    {
     "name": "stdout",
     "output_type": "stream",
     "text": [
      "len(query_ids)=92\n",
      "len(all_ids)=8872\n"
     ]
    }
   ],
   "source": [
    "assert len(set(query_ids) | set(all_ids)) == len(all_ids)\n",
    "\n",
    "print(f\"{len(query_ids)=}\")\n",
    "print(f\"{len(all_ids)=}\")"
   ]
  },
  {
   "cell_type": "code",
   "execution_count": 7,
   "metadata": {},
   "outputs": [],
   "source": [
    "# Save in format needed for inference_module_ui.py\n",
    "\n",
    "pd.Series(query_ids).to_csv(\"query_list.txt\", index=False, header=False)\n",
    "pd.Series(all_ids).to_csv(\"all_UI_files.txt\", index=False, header=False)"
   ]
  },
  {
   "cell_type": "code",
   "execution_count": 23,
   "metadata": {},
   "outputs": [],
   "source": [
    "import os\n",
    "\n",
    "query_ids = [int(name.split(\"_\")[0]) for name in os.listdir(\"results_gmn_model_l3s1sr0w:v34/\")]\n",
    "\n",
    "retrievals_ids = []\n",
    "\n",
    "for query_id in query_ids:\n",
    "    retrievals_ids.append(pd.read_csv(f\"results_gmn_model_l3s1sr0w:v34/{query_id}_retrievals.txt\", header=None, names=[\"id\"])[\"id\"].to_list())"
   ]
  },
  {
   "cell_type": "code",
   "execution_count": 36,
   "metadata": {},
   "outputs": [
    {
     "data": {
      "text/plain": [
       "array([[13551, 42614, 60484],\n",
       "       [54420, 42656, 16656],\n",
       "       [62839, 35850, 71620],\n",
       "       [72495, 13237, 53810],\n",
       "       [59585, 66851, 65580],\n",
       "       [48472,  1990, 67611],\n",
       "       [27206,  8909, 40419],\n",
       "       [ 5567, 20966, 12409],\n",
       "       [64326, 44371, 73370],\n",
       "       [11899, 68453, 67785],\n",
       "       [75308, 35798, 77393],\n",
       "       [67173, 63186, 34062],\n",
       "       [28108, 18469, 36944],\n",
       "       [11531, 19701, 38313],\n",
       "       [75796,  1997, 16644],\n",
       "       [74960, 34059, 60993],\n",
       "       [24861, 67404,  9151],\n",
       "       [71574, 10434, 61706],\n",
       "       [58041, 39909, 31607],\n",
       "       [62300, 56425, 78901],\n",
       "       [70799, 78907, 65475],\n",
       "       [31628, 20086, 40646],\n",
       "       [13971, 56683, 28612],\n",
       "       [35344, 59904, 45183],\n",
       "       [34068, 40543, 75362],\n",
       "       [63967, 54181, 63877],\n",
       "       [47698, 43024, 28780],\n",
       "       [27306, 30429, 30401],\n",
       "       [64538, 43010, 66274],\n",
       "       [32174, 74245, 54495],\n",
       "       [17420, 39748, 18003],\n",
       "       [29069, 35375, 47226],\n",
       "       [35773, 12429,  5375],\n",
       "       [46045,   947, 61649],\n",
       "       [ 6792, 56618, 15776],\n",
       "       [ 7043, 73512, 72047],\n",
       "       [59708, 45764, 45145],\n",
       "       [44143, 24678, 45177],\n",
       "       [35834, 38038, 65334],\n",
       "       [ 3246, 18186,  1059],\n",
       "       [66034, 26341, 32845],\n",
       "       [43357, 11538, 66792],\n",
       "       [32851, 27343, 71898],\n",
       "       [36055, 14044, 11334],\n",
       "       [58837, 44426, 72384],\n",
       "       [ 8105, 13298, 55275],\n",
       "       [70205,  9171, 28145],\n",
       "       [30976, 23071, 56370],\n",
       "       [ 6365, 76075, 72620],\n",
       "       [17294, 39484, 56374],\n",
       "       [21878, 59990, 34170],\n",
       "       [10257, 70375, 42456],\n",
       "       [57572, 66027,  9241],\n",
       "       [58358, 59952, 75846],\n",
       "       [33990, 62601, 67108],\n",
       "       [11373, 52169, 72777],\n",
       "       [61193, 38912, 63781],\n",
       "       [34641,  5723, 59208],\n",
       "       [69073, 20358, 67206],\n",
       "       [18857, 20255, 79320],\n",
       "       [22945, 27233, 51659],\n",
       "       [65121, 77389, 61475],\n",
       "       [59014, 68796, 29008],\n",
       "       [38407, 42962, 38486],\n",
       "       [56974, 59641, 79880],\n",
       "       [13135, 80157, 74329],\n",
       "       [42536, 43328, 28328],\n",
       "       [15404, 15562,   930],\n",
       "       [ 9007, 28705, 28746],\n",
       "       [62281, 33391, 76932],\n",
       "       [ 6170, 68512, 59532],\n",
       "       [40769, 15429, 54680],\n",
       "       [14515, 78361, 21297],\n",
       "       [31080, 62094, 32003],\n",
       "       [12564, 15562, 47725],\n",
       "       [74768, 61561, 67406],\n",
       "       [63584, 60667, 25890],\n",
       "       [65297,  6604, 59196],\n",
       "       [ 9161, 17776, 21768],\n",
       "       [80491,  5532, 10092],\n",
       "       [78356, 65755, 10579],\n",
       "       [ 7036, 22233,  1531],\n",
       "       [61547, 67376, 67632],\n",
       "       [46155, 44217, 70449],\n",
       "       [45216, 74717, 45914],\n",
       "       [ 4997, 39228, 61361],\n",
       "       [74458, 58902, 67058],\n",
       "       [69641,  6111, 76715],\n",
       "       [35021, 61768, 75916],\n",
       "       [28328, 43328, 41043],\n",
       "       [71170, 50247, 45387],\n",
       "       [78498, 31978, 63535]])"
      ]
     },
     "execution_count": 36,
     "metadata": {},
     "output_type": "execute_result"
    }
   ],
   "source": [
    "import numpy as np\n",
    "\n",
    "np.stack(retrievals_ids)[:, :3]\n",
    "\n",
    "# np.array(query_ids)"
   ]
  }
 ],
 "metadata": {
  "kernelspec": {
   "display_name": "pytorch310",
   "language": "python",
   "name": "python3"
  },
  "language_info": {
   "codemirror_mode": {
    "name": "ipython",
    "version": 3
   },
   "file_extension": ".py",
   "mimetype": "text/x-python",
   "name": "python",
   "nbconvert_exporter": "python",
   "pygments_lexer": "ipython3",
   "version": "3.10.10"
  },
  "orig_nbformat": 4
 },
 "nbformat": 4,
 "nbformat_minor": 2
}
